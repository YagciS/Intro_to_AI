{
 "cells": [
  {
   "cell_type": "markdown",
   "id": "febcb160",
   "metadata": {},
   "source": [
    "# 2nd Assignment\n",
    "\n",
    "ReadMe:\n",
    "https://github.com/umaimehm/Intro_to_AI_2021/blob/main/assignment2-machinelearning/README.md\n",
    "\n",
    "Tesla .csv:\n",
    "https://raw.githubusercontent.com/umaimehm/Intro_to_AI_2021/main/assignment2-machinelearning/TSLA.csv"
   ]
  },
  {
   "cell_type": "markdown",
   "id": "e0cc2d0a",
   "metadata": {},
   "source": [
    "## Regression or classification?\n",
    "\n",
    "As the data is not clustered, I see the only way to solve the 1st case is to use regression. \n",
    "\n",
    "Classification is in its \"name\", it divides the dataset into classes based on parameters and therefore categorizes the data into classes. A good example of its usecase can be spam-mails, here it uses its classes to identify if the mail has a repeating sentence or something in similarities of other spams, then can proceed to put it in spam.\n",
    "\n",
    "Regression finds the correlations between variables. So it can predict continuous variables such as market trends. A good example I can think of is maybe weather forecast. It is possible to use regression to predict the weather for the future. If we used classification to predict the weather, its output would only be if it would be colder or warmer, not an exact temperature."
   ]
  },
  {
   "cell_type": "code",
   "execution_count": 1,
   "id": "243ad73c",
   "metadata": {},
   "outputs": [],
   "source": [
    "#importing stuff I might need (will delete things I dont need)\n",
    "import numpy as np\n",
    "import pandas as pd\n",
    "import matplotlib.pyplot as plt\n",
    "\n",
    "from sklearn import metrics\n",
    "from sklearn import preprocessing\n",
    "from sklearn.linear_model import LinearRegression\n",
    "from sklearn.model_selection import train_test_split"
   ]
  },
  {
   "cell_type": "code",
   "execution_count": 2,
   "id": "0f96d005",
   "metadata": {},
   "outputs": [
    {
     "data": {
      "text/html": [
       "<div>\n",
       "<style scoped>\n",
       "    .dataframe tbody tr th:only-of-type {\n",
       "        vertical-align: middle;\n",
       "    }\n",
       "\n",
       "    .dataframe tbody tr th {\n",
       "        vertical-align: top;\n",
       "    }\n",
       "\n",
       "    .dataframe thead th {\n",
       "        text-align: right;\n",
       "    }\n",
       "</style>\n",
       "<table border=\"1\" class=\"dataframe\">\n",
       "  <thead>\n",
       "    <tr style=\"text-align: right;\">\n",
       "      <th></th>\n",
       "      <th>Date</th>\n",
       "      <th>Open</th>\n",
       "      <th>High</th>\n",
       "      <th>Low</th>\n",
       "      <th>Close</th>\n",
       "      <th>Adj Close</th>\n",
       "      <th>Volume</th>\n",
       "    </tr>\n",
       "  </thead>\n",
       "  <tbody>\n",
       "    <tr>\n",
       "      <th>2840</th>\n",
       "      <td>2021-10-08</td>\n",
       "      <td>796.210022</td>\n",
       "      <td>796.380005</td>\n",
       "      <td>780.909973</td>\n",
       "      <td>785.489990</td>\n",
       "      <td>785.489990</td>\n",
       "      <td>16711100</td>\n",
       "    </tr>\n",
       "    <tr>\n",
       "      <th>2841</th>\n",
       "      <td>2021-10-11</td>\n",
       "      <td>787.650024</td>\n",
       "      <td>801.239990</td>\n",
       "      <td>785.500000</td>\n",
       "      <td>791.940002</td>\n",
       "      <td>791.940002</td>\n",
       "      <td>14200300</td>\n",
       "    </tr>\n",
       "    <tr>\n",
       "      <th>2842</th>\n",
       "      <td>2021-10-12</td>\n",
       "      <td>800.929993</td>\n",
       "      <td>812.320007</td>\n",
       "      <td>796.570007</td>\n",
       "      <td>805.719971</td>\n",
       "      <td>805.719971</td>\n",
       "      <td>22020000</td>\n",
       "    </tr>\n",
       "    <tr>\n",
       "      <th>2843</th>\n",
       "      <td>2021-10-13</td>\n",
       "      <td>810.469971</td>\n",
       "      <td>815.409973</td>\n",
       "      <td>805.780029</td>\n",
       "      <td>811.080017</td>\n",
       "      <td>811.080017</td>\n",
       "      <td>14120100</td>\n",
       "    </tr>\n",
       "    <tr>\n",
       "      <th>2844</th>\n",
       "      <td>2021-10-14</td>\n",
       "      <td>815.489990</td>\n",
       "      <td>820.250000</td>\n",
       "      <td>813.349976</td>\n",
       "      <td>818.320007</td>\n",
       "      <td>818.320007</td>\n",
       "      <td>12203200</td>\n",
       "    </tr>\n",
       "  </tbody>\n",
       "</table>\n",
       "</div>"
      ],
      "text/plain": [
       "            Date        Open        High         Low       Close   Adj Close  \\\n",
       "2840  2021-10-08  796.210022  796.380005  780.909973  785.489990  785.489990   \n",
       "2841  2021-10-11  787.650024  801.239990  785.500000  791.940002  791.940002   \n",
       "2842  2021-10-12  800.929993  812.320007  796.570007  805.719971  805.719971   \n",
       "2843  2021-10-13  810.469971  815.409973  805.780029  811.080017  811.080017   \n",
       "2844  2021-10-14  815.489990  820.250000  813.349976  818.320007  818.320007   \n",
       "\n",
       "        Volume  \n",
       "2840  16711100  \n",
       "2841  14200300  \n",
       "2842  22020000  \n",
       "2843  14120100  \n",
       "2844  12203200  "
      ]
     },
     "execution_count": 2,
     "metadata": {},
     "output_type": "execute_result"
    }
   ],
   "source": [
    "#Importing the rawdata from Github\n",
    "url = \"https://raw.githubusercontent.com/umaimehm/Intro_to_AI_2021/main/assignment2-machinelearning/TSLA.csv\"\n",
    "\n",
    "df = pd.read_csv(url, sep=',')\n",
    "df.tail()\n",
    "#Checking the tail just to see how many days of data we got"
   ]
  },
  {
   "cell_type": "code",
   "execution_count": 3,
   "id": "73f5ec56",
   "metadata": {},
   "outputs": [
    {
     "data": {
      "text/plain": [
       "[<matplotlib.lines.Line2D at 0x2236b5b6fa0>]"
      ]
     },
     "execution_count": 3,
     "metadata": {},
     "output_type": "execute_result"
    },
    {
     "data": {
      "image/png": "[encoded data removed]",
      "text/plain": [
       "<Figure size 432x288 with 1 Axes>"
      ]
     },
     "metadata": {
      "needs_background": "light"
     },
     "output_type": "display_data"
    }
   ],
   "source": [
    "#Plotting the value by the Closing of the Market\n",
    "plt.plot(df[\"Close\"])"
   ]
  },
  {
   "cell_type": "markdown",
   "id": "c19a0281",
   "metadata": {},
   "source": [
    "I haven't been able to do more than this.. Forgot about the assignment sadly. Didn't bother to contact either of the TAs or Umair. If there is an extended timeline for us that failed, I will try to fix asap this assignment.\n",
    "\n",
    "I don't have the energy to rush within an hour of the deadline to get this assignment somewhat okay, and I don't think I can solve it within the hour"
   ]
  }
 ],
 "metadata": {
  "kernelspec": {
   "display_name": "Python 3 (ipykernel)",
   "language": "python",
   "name": "python3"
  },
  "language_info": {
   "codemirror_mode": {
    "name": "ipython",
    "version": 3
   },
   "file_extension": ".py",
   "mimetype": "text/x-python",
   "name": "python",
   "nbconvert_exporter": "python",
   "pygments_lexer": "ipython3",
   "version": "3.8.11"
  }
 },
 "nbformat": 4,
 "nbformat_minor": 5
}
