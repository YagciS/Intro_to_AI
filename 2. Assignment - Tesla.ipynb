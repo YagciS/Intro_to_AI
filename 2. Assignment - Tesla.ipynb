{
 "cells": [
  {
   "cell_type": "markdown",
   "id": "dd218438",
   "metadata": {},
   "source": [
    "# 2nd Assignment\n",
    "\n",
    "ReadMe:\n",
    "https://github.com/umaimehm/Intro_to_AI_2021/blob/main/assignment2-machinelearning/README.md\n",
    "\n",
    "Tesla .csv:\n",
    "https://raw.githubusercontent.com/umaimehm/Intro_to_AI_2021/main/assignment2-machinelearning/TSLA.csv"
   ]
  },
  {
   "cell_type": "markdown",
   "id": "1fdf0a2b",
   "metadata": {},
   "source": [
    "## Regression or classification?\n",
    "\n",
    "As the data is not clustered, I see the only way to solve the 1st case is to use regression. \n",
    "\n",
    "Classification is in its \"name\", it divides the dataset into classes based on parameters and therefore categorizes the data into classes. A good example of its usecase can be spam-mails, here it uses its classes to identify if the mail has a repeating sentence or something in similarities of other spams, then can proceed to put it in spam.\n",
    "\n",
    "Regression finds the correlations between variables. So it can predict continuous variables such as market trends. A good example I can think of is maybe weather forecast. It is possible to use regression to predict the weather for the future. If we used classification to predict the weather, its output would only be if it would be colder or warmer, not an exact temperature."
   ]
  },
  {
   "cell_type": "code",
   "execution_count": 1,
   "id": "a4ebcad7",
   "metadata": {},
   "outputs": [],
   "source": [
    "#Imports:\n",
    "import pandas as pd\n",
    "import matplotlib.pyplot as plt\n",
    "import datetime as dt\n",
    "%matplotlib inline\n",
    "\n",
    "#Removing Warinings, they are kinda annoying\n",
    "import warnings\n",
    "warnings.filterwarnings(\"ignore\")\n",
    "\n",
    "#Sklearn imports that is going to be used for the 2nd model\n",
    "from sklearn import linear_model\n",
    "from sklearn.model_selection import train_test_split\n",
    "from sklearn.linear_model import LinearRegression\n",
    "from sklearn import metrics"
   ]
  },
  {
   "cell_type": "code",
   "execution_count": 2,
   "id": "ec9d0953",
   "metadata": {},
   "outputs": [
    {
     "data": {
      "text/html": [
       "<div>\n",
       "<style scoped>\n",
       "    .dataframe tbody tr th:only-of-type {\n",
       "        vertical-align: middle;\n",
       "    }\n",
       "\n",
       "    .dataframe tbody tr th {\n",
       "        vertical-align: top;\n",
       "    }\n",
       "\n",
       "    .dataframe thead th {\n",
       "        text-align: right;\n",
       "    }\n",
       "</style>\n",
       "<table border=\"1\" class=\"dataframe\">\n",
       "  <thead>\n",
       "    <tr style=\"text-align: right;\">\n",
       "      <th></th>\n",
       "      <th>Date</th>\n",
       "      <th>Open</th>\n",
       "      <th>High</th>\n",
       "      <th>Low</th>\n",
       "      <th>Close</th>\n",
       "      <th>Adj Close</th>\n",
       "      <th>Volume</th>\n",
       "    </tr>\n",
       "  </thead>\n",
       "  <tbody>\n",
       "    <tr>\n",
       "      <th>2840</th>\n",
       "      <td>2021-10-08</td>\n",
       "      <td>796.210022</td>\n",
       "      <td>796.380005</td>\n",
       "      <td>780.909973</td>\n",
       "      <td>785.489990</td>\n",
       "      <td>785.489990</td>\n",
       "      <td>16711100</td>\n",
       "    </tr>\n",
       "    <tr>\n",
       "      <th>2841</th>\n",
       "      <td>2021-10-11</td>\n",
       "      <td>787.650024</td>\n",
       "      <td>801.239990</td>\n",
       "      <td>785.500000</td>\n",
       "      <td>791.940002</td>\n",
       "      <td>791.940002</td>\n",
       "      <td>14200300</td>\n",
       "    </tr>\n",
       "    <tr>\n",
       "      <th>2842</th>\n",
       "      <td>2021-10-12</td>\n",
       "      <td>800.929993</td>\n",
       "      <td>812.320007</td>\n",
       "      <td>796.570007</td>\n",
       "      <td>805.719971</td>\n",
       "      <td>805.719971</td>\n",
       "      <td>22020000</td>\n",
       "    </tr>\n",
       "    <tr>\n",
       "      <th>2843</th>\n",
       "      <td>2021-10-13</td>\n",
       "      <td>810.469971</td>\n",
       "      <td>815.409973</td>\n",
       "      <td>805.780029</td>\n",
       "      <td>811.080017</td>\n",
       "      <td>811.080017</td>\n",
       "      <td>14120100</td>\n",
       "    </tr>\n",
       "    <tr>\n",
       "      <th>2844</th>\n",
       "      <td>2021-10-14</td>\n",
       "      <td>815.489990</td>\n",
       "      <td>820.250000</td>\n",
       "      <td>813.349976</td>\n",
       "      <td>818.320007</td>\n",
       "      <td>818.320007</td>\n",
       "      <td>12203200</td>\n",
       "    </tr>\n",
       "  </tbody>\n",
       "</table>\n",
       "</div>"
      ],
      "text/plain": [
       "            Date        Open        High         Low       Close   Adj Close  \\\n",
       "2840  2021-10-08  796.210022  796.380005  780.909973  785.489990  785.489990   \n",
       "2841  2021-10-11  787.650024  801.239990  785.500000  791.940002  791.940002   \n",
       "2842  2021-10-12  800.929993  812.320007  796.570007  805.719971  805.719971   \n",
       "2843  2021-10-13  810.469971  815.409973  805.780029  811.080017  811.080017   \n",
       "2844  2021-10-14  815.489990  820.250000  813.349976  818.320007  818.320007   \n",
       "\n",
       "        Volume  \n",
       "2840  16711100  \n",
       "2841  14200300  \n",
       "2842  22020000  \n",
       "2843  14120100  \n",
       "2844  12203200  "
      ]
     },
     "execution_count": 2,
     "metadata": {},
     "output_type": "execute_result"
    }
   ],
   "source": [
    "#Importing the data from Github\n",
    "url = \"https://raw.githubusercontent.com/umaimehm/Intro_to_AI_2021/main/assignment2-machinelearning/TSLA.csv\"\n",
    "df = pd.read_csv(url, sep=',')\n",
    "\n",
    "#Here I choose to check the tail to see how many lines we got\n",
    "df.tail()"
   ]
  },
  {
   "cell_type": "code",
   "execution_count": 3,
   "id": "030370e2",
   "metadata": {},
   "outputs": [
    {
     "name": "stdout",
     "output_type": "stream",
     "text": [
      "<class 'pandas.core.frame.DataFrame'>\n",
      "RangeIndex: 2845 entries, 0 to 2844\n",
      "Data columns (total 7 columns):\n",
      " #   Column     Non-Null Count  Dtype  \n",
      "---  ------     --------------  -----  \n",
      " 0   Date       2845 non-null   object \n",
      " 1   Open       2845 non-null   float64\n",
      " 2   High       2845 non-null   float64\n",
      " 3   Low        2845 non-null   float64\n",
      " 4   Close      2845 non-null   float64\n",
      " 5   Adj Close  2845 non-null   float64\n",
      " 6   Volume     2845 non-null   int64  \n",
      "dtypes: float64(5), int64(1), object(1)\n",
      "memory usage: 155.7+ KB\n"
     ]
    }
   ],
   "source": [
    "df.info()"
   ]
  },
  {
   "cell_type": "code",
   "execution_count": 4,
   "id": "46300067",
   "metadata": {},
   "outputs": [],
   "source": [
    "#I want to change the date so the times on the plots shows as years rather than indexes\n",
    "#To be able to do this I will make another df (plot_df), which will only be used for plotting\n",
    "\n",
    "plot_df = df[[\"Date\", \"Close\"]]\n",
    "plot_df[\"Date\"] = pd.to_datetime(plot_df[\"Date\"])\n",
    "plot_df.set_index(\"Date\", inplace=True)"
   ]
  },
  {
   "cell_type": "code",
   "execution_count": 5,
   "id": "c3364c33",
   "metadata": {},
   "outputs": [
    {
     "data": {
      "image/png": "[encoded data removed]",
      "text/plain": [
       "<Figure size 432x288 with 1 Axes>"
      ]
     },
     "metadata": {
      "needs_background": "light"
     },
     "output_type": "display_data"
    }
   ],
   "source": [
    "plot_df[\"Close\"].plot()\n",
    "plt.xlabel(\"Date\")\n",
    "plt.show()"
   ]
  },
  {
   "cell_type": "markdown",
   "id": "a96f454f",
   "metadata": {},
   "source": [
    "Looks like we got data since Tesla was anything from Github, I won't train my algoritm based on all of 2845 days, since the early times for Tesla wasn't so popular, I will start from an approximately when Tesla started to get some hype. Based on the plot I just drew, it looks like they started to get some hype from 2018-2020"
   ]
  },
  {
   "cell_type": "markdown",
   "id": "edef651f",
   "metadata": {},
   "source": [
    "#### New data will be set dates from: 1.1.2018 - 31.10.2021 \n",
    "\n",
    "And I will be using this data further in the assignment"
   ]
  },
  {
   "cell_type": "code",
   "execution_count": 6,
   "id": "3e3d7073",
   "metadata": {},
   "outputs": [
    {
     "data": {
      "text/html": [
       "<div>\n",
       "<style scoped>\n",
       "    .dataframe tbody tr th:only-of-type {\n",
       "        vertical-align: middle;\n",
       "    }\n",
       "\n",
       "    .dataframe tbody tr th {\n",
       "        vertical-align: top;\n",
       "    }\n",
       "\n",
       "    .dataframe thead th {\n",
       "        text-align: right;\n",
       "    }\n",
       "</style>\n",
       "<table border=\"1\" class=\"dataframe\">\n",
       "  <thead>\n",
       "    <tr style=\"text-align: right;\">\n",
       "      <th></th>\n",
       "      <th>Date</th>\n",
       "      <th>Open</th>\n",
       "      <th>High</th>\n",
       "      <th>Low</th>\n",
       "      <th>Close</th>\n",
       "      <th>Adj Close</th>\n",
       "      <th>Volume</th>\n",
       "    </tr>\n",
       "  </thead>\n",
       "  <tbody>\n",
       "    <tr>\n",
       "      <th>960</th>\n",
       "      <td>2021-10-25</td>\n",
       "      <td>950.530029</td>\n",
       "      <td>1045.020020</td>\n",
       "      <td>944.200012</td>\n",
       "      <td>1024.859985</td>\n",
       "      <td>1024.859985</td>\n",
       "      <td>62852100</td>\n",
       "    </tr>\n",
       "    <tr>\n",
       "      <th>961</th>\n",
       "      <td>2021-10-26</td>\n",
       "      <td>1024.689941</td>\n",
       "      <td>1094.939941</td>\n",
       "      <td>1001.440002</td>\n",
       "      <td>1018.429993</td>\n",
       "      <td>1018.429993</td>\n",
       "      <td>62415000</td>\n",
       "    </tr>\n",
       "    <tr>\n",
       "      <th>962</th>\n",
       "      <td>2021-10-27</td>\n",
       "      <td>1039.660034</td>\n",
       "      <td>1070.880005</td>\n",
       "      <td>1030.780029</td>\n",
       "      <td>1037.859985</td>\n",
       "      <td>1037.859985</td>\n",
       "      <td>38526500</td>\n",
       "    </tr>\n",
       "    <tr>\n",
       "      <th>963</th>\n",
       "      <td>2021-10-28</td>\n",
       "      <td>1068.310059</td>\n",
       "      <td>1081.000000</td>\n",
       "      <td>1054.199951</td>\n",
       "      <td>1077.040039</td>\n",
       "      <td>1077.040039</td>\n",
       "      <td>27213200</td>\n",
       "    </tr>\n",
       "    <tr>\n",
       "      <th>964</th>\n",
       "      <td>2021-10-29</td>\n",
       "      <td>1081.859985</td>\n",
       "      <td>1115.209961</td>\n",
       "      <td>1073.209961</td>\n",
       "      <td>1114.000000</td>\n",
       "      <td>1114.000000</td>\n",
       "      <td>29918400</td>\n",
       "    </tr>\n",
       "  </tbody>\n",
       "</table>\n",
       "</div>"
      ],
      "text/plain": [
       "           Date         Open         High          Low        Close  \\\n",
       "960  2021-10-25   950.530029  1045.020020   944.200012  1024.859985   \n",
       "961  2021-10-26  1024.689941  1094.939941  1001.440002  1018.429993   \n",
       "962  2021-10-27  1039.660034  1070.880005  1030.780029  1037.859985   \n",
       "963  2021-10-28  1068.310059  1081.000000  1054.199951  1077.040039   \n",
       "964  2021-10-29  1081.859985  1115.209961  1073.209961  1114.000000   \n",
       "\n",
       "       Adj Close    Volume  \n",
       "960  1024.859985  62852100  \n",
       "961  1018.429993  62415000  \n",
       "962  1037.859985  38526500  \n",
       "963  1077.040039  27213200  \n",
       "964  1114.000000  29918400  "
      ]
     },
     "execution_count": 6,
     "metadata": {},
     "output_type": "execute_result"
    }
   ],
   "source": [
    "#Importing data from yFinance\n",
    "url = \"https://query1.finance.yahoo.com/v7/finance/download/TSLA?period1=1514764800&period2=1635638400&interval=1d&events=history&includeAdjustedClose=true\"\n",
    "df = pd.read_csv(url, sep=',') \n",
    "\n",
    "df.tail()"
   ]
  },
  {
   "cell_type": "markdown",
   "id": "49f5a693",
   "metadata": {},
   "source": [
    "Now we have 965 days, which is much more workable"
   ]
  },
  {
   "cell_type": "markdown",
   "id": "6e371078",
   "metadata": {},
   "source": [
    "## Visualization of data"
   ]
  },
  {
   "cell_type": "code",
   "execution_count": 7,
   "id": "c54248b6",
   "metadata": {},
   "outputs": [
    {
     "data": {
      "image/png": "[encoded data removed]",
      "text/plain": [
       "<Figure size 1080x720 with 5 Axes>"
      ]
     },
     "metadata": {
      "needs_background": "light"
     },
     "output_type": "display_data"
    }
   ],
   "source": [
    "plot_df = df[[\"Date\", \"Open\", \"High\", \"Low\", \"Close\", \"Volume\"]]\n",
    "#Converting Date to Datetime, so we can get x-axis to be nicer\n",
    "plot_df[\"Date\"] = pd.to_datetime(plot_df[\"Date\"])\n",
    "plot_df.set_index(\"Date\", inplace=True)\n",
    "\n",
    "cols = ['Open', 'Close', 'Volume', 'High', 'Low']\n",
    "axes = plot_df[cols].plot(figsize=(15, 10), subplots = True) #Subplotting to get seperate plots, also sizing plots to be longer\n",
    "plt.show()"
   ]
  },
  {
   "cell_type": "markdown",
   "id": "2da15a31",
   "metadata": {},
   "source": [
    "As I can see, there isn't really sooo much of any difference between Open, Close, High and Low. I will in this assignment just use the Close values for LinearRegression. Volume is just interesting, but won't be used in my case"
   ]
  },
  {
   "cell_type": "markdown",
   "id": "b4789329",
   "metadata": {
    "scrolled": false
   },
   "source": [
    "### Data validation"
   ]
  },
  {
   "cell_type": "markdown",
   "id": "782ec486",
   "metadata": {},
   "source": [
    "I want to start with just looking at what we got of datatypes, and if we got any NaN or null"
   ]
  },
  {
   "cell_type": "code",
   "execution_count": 8,
   "id": "f1dc2551",
   "metadata": {},
   "outputs": [
    {
     "name": "stdout",
     "output_type": "stream",
     "text": [
      "<class 'pandas.core.frame.DataFrame'>\n",
      "RangeIndex: 965 entries, 0 to 964\n",
      "Data columns (total 7 columns):\n",
      " #   Column     Non-Null Count  Dtype  \n",
      "---  ------     --------------  -----  \n",
      " 0   Date       965 non-null    object \n",
      " 1   Open       965 non-null    float64\n",
      " 2   High       965 non-null    float64\n",
      " 3   Low        965 non-null    float64\n",
      " 4   Close      965 non-null    float64\n",
      " 5   Adj Close  965 non-null    float64\n",
      " 6   Volume     965 non-null    int64  \n",
      "dtypes: float64(5), int64(1), object(1)\n",
      "memory usage: 52.9+ KB\n"
     ]
    }
   ],
   "source": [
    "df.info()"
   ]
  },
  {
   "cell_type": "code",
   "execution_count": 9,
   "id": "8df55bf6",
   "metadata": {},
   "outputs": [
    {
     "data": {
      "text/plain": [
       "Date         0\n",
       "Open         0\n",
       "High         0\n",
       "Low          0\n",
       "Close        0\n",
       "Adj Close    0\n",
       "Volume       0\n",
       "dtype: int64"
      ]
     },
     "execution_count": 9,
     "metadata": {},
     "output_type": "execute_result"
    }
   ],
   "source": [
    "df.isnull().sum()"
   ]
  },
  {
   "cell_type": "markdown",
   "id": "77916018",
   "metadata": {},
   "source": [
    "By the looks of it, it looks perfectly good, no null and the data is good to go, but I do want to change Date to int and remove \"-\", so when we are going to later predict on a date, we can write the prediction date with YYYYMMDD format in int.\n",
    "\n",
    "In df, I just want to have Date and Close aswell"
   ]
  },
  {
   "cell_type": "code",
   "execution_count": 10,
   "id": "7aaaa885",
   "metadata": {},
   "outputs": [],
   "source": [
    "df.drop([\"Open\", \"High\", \"Low\", \"Adj Close\", \"Volume\"], axis=\"columns\", inplace=True)\n",
    "\n",
    "df[\"Date\"] = df['Date'].str.replace(\"-\", \"\")\n",
    "df = df.astype({\"Date\": int, \"Close\": float})"
   ]
  },
  {
   "cell_type": "markdown",
   "id": "e894dae7",
   "metadata": {},
   "source": [
    "Now for the regObject, I'll need x, y values.\n",
    "\n",
    "Here I'll choose Date as x and Close as y "
   ]
  },
  {
   "cell_type": "code",
   "execution_count": 11,
   "id": "36d13eb9",
   "metadata": {},
   "outputs": [
    {
     "data": {
      "text/html": [
       "<div>\n",
       "<style scoped>\n",
       "    .dataframe tbody tr th:only-of-type {\n",
       "        vertical-align: middle;\n",
       "    }\n",
       "\n",
       "    .dataframe tbody tr th {\n",
       "        vertical-align: top;\n",
       "    }\n",
       "\n",
       "    .dataframe thead th {\n",
       "        text-align: right;\n",
       "    }\n",
       "</style>\n",
       "<table border=\"1\" class=\"dataframe\">\n",
       "  <thead>\n",
       "    <tr style=\"text-align: right;\">\n",
       "      <th></th>\n",
       "      <th>Date</th>\n",
       "    </tr>\n",
       "  </thead>\n",
       "  <tbody>\n",
       "    <tr>\n",
       "      <th>0</th>\n",
       "      <td>20180102</td>\n",
       "    </tr>\n",
       "    <tr>\n",
       "      <th>1</th>\n",
       "      <td>20180103</td>\n",
       "    </tr>\n",
       "    <tr>\n",
       "      <th>2</th>\n",
       "      <td>20180104</td>\n",
       "    </tr>\n",
       "    <tr>\n",
       "      <th>3</th>\n",
       "      <td>20180105</td>\n",
       "    </tr>\n",
       "    <tr>\n",
       "      <th>4</th>\n",
       "      <td>20180108</td>\n",
       "    </tr>\n",
       "  </tbody>\n",
       "</table>\n",
       "</div>"
      ],
      "text/plain": [
       "       Date\n",
       "0  20180102\n",
       "1  20180103\n",
       "2  20180104\n",
       "3  20180105\n",
       "4  20180108"
      ]
     },
     "execution_count": 11,
     "metadata": {},
     "output_type": "execute_result"
    }
   ],
   "source": [
    "x = df.drop(\"Close\", axis=\"columns\")\n",
    "y = df.Close\n",
    "\n",
    "x.head()"
   ]
  },
  {
   "cell_type": "markdown",
   "id": "a2b9205d",
   "metadata": {},
   "source": [
    "## Creating linear model (using LinearRegression())"
   ]
  },
  {
   "cell_type": "code",
   "execution_count": 12,
   "id": "c2fcf07a",
   "metadata": {},
   "outputs": [
    {
     "data": {
      "text/plain": [
       "LinearRegression()"
      ]
     },
     "execution_count": 12,
     "metadata": {},
     "output_type": "execute_result"
    }
   ],
   "source": [
    "model = linear_model.LinearRegression()\n",
    "model.fit(x, y)"
   ]
  },
  {
   "cell_type": "code",
   "execution_count": 13,
   "id": "b87a944a",
   "metadata": {},
   "outputs": [
    {
     "data": {
      "text/plain": [
       "[<matplotlib.lines.Line2D at 0x11ad61420a0>]"
      ]
     },
     "execution_count": 13,
     "metadata": {},
     "output_type": "execute_result"
    },
    {
     "data": {
      "image/png": "[encoded data removed]",
      "text/plain": [
       "<Figure size 432x288 with 1 Axes>"
      ]
     },
     "metadata": {
      "needs_background": "light"
     },
     "output_type": "display_data"
    }
   ],
   "source": [
    "# matplotlib labels\n",
    "plt.xlabel('Dates in int format',fontsize=14)\n",
    "plt.ylabel('Closing Market price',fontsize=14)\n",
    "\n",
    "# Visual Represention of linear equation with Linear Regression\n",
    "plt.scatter(df.Date, df.Close, color = 'k', s=3)\n",
    "plt.plot(df.Date, model.predict(df[['Date']]), color='red')"
   ]
  },
  {
   "cell_type": "markdown",
   "id": "2b80a2b5",
   "metadata": {},
   "source": [
    "The reason the plot looks like this is because the way we formatted the dates to int. We formatted it in YYYYMMDD, which means that month doesn't go over 12 and days doesn't go over 31. This means that there is alot of empty space after these dates. I would have used another way to train the model and plot, but since we were going to input a date, and the program is then going to give us estimation of what the stock is, I couldn't come up with doing anything different"
   ]
  },
  {
   "cell_type": "code",
   "execution_count": 14,
   "id": "32adbbe0",
   "metadata": {},
   "outputs": [
    {
     "data": {
      "text/plain": [
       "array([1476.72888507])"
      ]
     },
     "execution_count": 14,
     "metadata": {},
     "output_type": "execute_result"
    }
   ],
   "source": [
    "#Here we can write whatever date we want to predict the stock price\n",
    "# in YYYYMMDD format\n",
    "#Just for fun I chose to write 2025, 12th month, 21st day\n",
    "\n",
    "model.predict([[20251221]])"
   ]
  },
  {
   "cell_type": "markdown",
   "id": "8bf8c023",
   "metadata": {},
   "source": [
    "So this was one way to make a model like this, and I cant get the MSE of this model since I haven't splitted the data between test data and prediction. So I made one more model, like we have done it in the labs."
   ]
  },
  {
   "cell_type": "code",
   "execution_count": 15,
   "id": "787f208f",
   "metadata": {},
   "outputs": [],
   "source": [
    "#Test size will be 10% of the data we have, just to get a more accurate model\n",
    "\n",
    "X_train, X_test, y_train, y_test = train_test_split(x, y, test_size=0.1, random_state=1)"
   ]
  },
  {
   "cell_type": "code",
   "execution_count": 16,
   "id": "c3c581a7",
   "metadata": {},
   "outputs": [],
   "source": [
    "lr = LinearRegression()  # create object for the class\n",
    "lr.fit(X_train, y_train)  # perform linear regression\n",
    "Y_pred = lr.predict(X_train)"
   ]
  },
  {
   "cell_type": "code",
   "execution_count": 17,
   "id": "8da1c84d",
   "metadata": {},
   "outputs": [
    {
     "data": {
      "image/png": "[encoded data removed]",
      "text/plain": [
       "<Figure size 432x288 with 1 Axes>"
      ]
     },
     "metadata": {
      "needs_background": "light"
     },
     "output_type": "display_data"
    },
    {
     "name": "stdout",
     "output_type": "stream",
     "text": [
      "MSE = 21968.00389650894\n"
     ]
    },
    {
     "data": {
      "text/plain": [
       "array([1483.02647333])"
      ]
     },
     "execution_count": 17,
     "metadata": {},
     "output_type": "execute_result"
    }
   ],
   "source": [
    "Y_pred = lr.predict(X_test)  # Predict the model on X_test\n",
    "plt.scatter(X_test, y_test)\n",
    "plt.plot(X_test, Y_pred, color='red')\n",
    "plt.show()\n",
    "print( \"MSE = \"+str(metrics.mean_squared_error(y_test,Y_pred)))\n",
    "lr.predict([[20251221]])"
   ]
  },
  {
   "cell_type": "markdown",
   "id": "da07be7a",
   "metadata": {},
   "source": [
    "I wanted to predict the same date as I chose earlier to see if the models showed the same results, and they did not"
   ]
  },
  {
   "cell_type": "markdown",
   "id": "aa727ec8",
   "metadata": {},
   "source": [
    "### Inputs can be done here\n",
    "\n",
    "To predict using the first model = model.predict([[YYYYMMDD]])\n",
    "\n",
    "To predict using the second model = lr.predict([[YYYYMMDD]])"
   ]
  },
  {
   "cell_type": "code",
   "execution_count": null,
   "id": "53fbdc21",
   "metadata": {},
   "outputs": [],
   "source": []
  }
 ],
 "metadata": {
  "kernelspec": {
   "display_name": "Python 3 (ipykernel)",
   "language": "python",
   "name": "python3"
  },
  "language_info": {
   "codemirror_mode": {
    "name": "ipython",
    "version": 3
   },
   "file_extension": ".py",
   "mimetype": "text/x-python",
   "name": "python",
   "nbconvert_exporter": "python",
   "pygments_lexer": "ipython3",
   "version": "3.8.11"
  }
 },
 "nbformat": 4,
 "nbformat_minor": 5
}
